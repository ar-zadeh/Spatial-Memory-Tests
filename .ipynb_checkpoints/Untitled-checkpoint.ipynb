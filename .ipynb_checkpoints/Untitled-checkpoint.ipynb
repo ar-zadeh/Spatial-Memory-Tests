{
 "cells": [
  {
   "cell_type": "code",
   "execution_count": 1,
   "id": "60353645",
   "metadata": {},
   "outputs": [],
   "source": [
    "import numpy as np\n",
    "import pandas as pd\n"
   ]
  },
  {
   "cell_type": "code",
   "execution_count": 2,
   "id": "b1b24107",
   "metadata": {},
   "outputs": [],
   "source": [
    "import os"
   ]
  },
  {
   "cell_type": "code",
   "execution_count": 6,
   "id": "58c7859b",
   "metadata": {},
   "outputs": [],
   "source": [
    "os.chdir(r\"C:\\Users\\abb6024\\OneDrive - The Pennsylvania State University\\CTF+HCAI+ICDS\\Introduction\\Participants\\2\")"
   ]
  },
  {
   "cell_type": "code",
   "execution_count": 7,
   "id": "8be76a59",
   "metadata": {},
   "outputs": [
    {
     "data": {
      "text/plain": [
       "'C:\\\\Users\\\\abb6024\\\\OneDrive - The Pennsylvania State University\\\\CTF+HCAI+ICDS\\\\Introduction\\\\Participants\\\\2'"
      ]
     },
     "execution_count": 7,
     "metadata": {},
     "output_type": "execute_result"
    }
   ],
   "source": [
    "os.getcwd()"
   ]
  },
  {
   "cell_type": "code",
   "execution_count": 14,
   "id": "477d73cd",
   "metadata": {
    "collapsed": true
   },
   "outputs": [
    {
     "name": "stdout",
     "output_type": "stream",
     "text": [
      "[{\"type\":\"corsiBlockSpan\",\"score\":7,\"sequence\":\"4,2,1,6,6,9,2,1\"},[{\"item\":0,\"correctAngle\":301,\"userAngle\":311.18592516570965,\"error\":10.185925165709648},{\"item\":1,\"correctAngle\":123,\"userAngle\":151.61303337592315,\"error\":28.613033375923152},{\"item\":2,\"correctAngle\":237,\"userAngle\":225.18785434166682,\"error\":11.81214565833318},{\"item\":3,\"correctAngle\":83,\"userAngle\":91.17875916991123,\"error\":8.178759169911231},{\"item\":4,\"correctAngle\":156,\"userAngle\":158.65952811176072,\"error\":2.6595281117607215},{\"item\":5,\"correctAngle\":319,\"userAngle\":301.13897243697886,\"error\":17.86102756302114},{\"item\":6,\"correctAngle\":235,\"userAngle\":273.01278750418334,\"error\":38.012787504183336},{\"item\":7,\"correctAngle\":333,\"userAngle\":339.16662984298546,\"error\":6.166629842985458},{\"item\":8,\"correctAngle\":260,\"userAngle\":263.48757697071215,\"error\":3.487576970712155},{\"item\":9,\"correctAngle\":280,\"userAngle\":273.74764497476605,\"error\":6.252355025233953},{\"item\":10,\"correctAngle\":48,\"userAngle\":273.74764497476605,\"error\":225.74764497476605},{\"item\":11,\"correctAngle\":26,\"userAngle\":25.243999002535418,\"error\":0.7560009974645823},{\"item\":12,\"correctAngle\":150,\"userAngle\":166.49364458741763,\"error\":16.493644587417634}],[{\"trial\":1,\"answer\":\"same\",\"correct\":true,\"angle\":50},{\"trial\":2,\"answer\":\"different\",\"correct\":true,\"angle\":150},{\"trial\":3,\"answer\":\"same\",\"correct\":true,\"angle\":50},{\"trial\":4,\"answer\":\"different\",\"correct\":true,\"angle\":50},{\"trial\":5,\"answer\":\"same\",\"correct\":true,\"angle\":50},{\"trial\":6,\"answer\":\"same\",\"correct\":true,\"angle\":50},{\"trial\":7,\"answer\":\"different\",\"correct\":true,\"angle\":50},{\"trial\":8,\"answer\":\"different\",\"correct\":true,\"angle\":50},{\"trial\":9,\"answer\":\"same\",\"correct\":true,\"angle\":50},{\"trial\":10,\"answer\":\"same\",\"correct\":true,\"angle\":150},{\"trial\":11,\"answer\":\"different\",\"correct\":true,\"angle\":150},{\"trial\":12,\"answer\":\"different\",\"correct\":true,\"angle\":50},{\"trial\":13,\"answer\":\"same\",\"correct\":true,\"angle\":150},{\"trial\":14,\"answer\":\"different\",\"correct\":true,\"angle\":150},{\"trial\":15,\"answer\":\"same\",\"correct\":true,\"angle\":50},{\"trial\":16,\"answer\":\"same\",\"correct\":true,\"angle\":50},{\"trial\":17,\"answer\":\"different\",\"correct\":true,\"angle\":50},{\"trial\":18,\"answer\":\"different\",\"correct\":true,\"angle\":50},{\"trial\":19,\"answer\":\"different\",\"correct\":true,\"angle\":150},{\"trial\":20,\"answer\":\"different\",\"correct\":true,\"angle\":150}],{\"gender\":\"male\",\"age\":\"21\",\"education\":\"Undergraduate\"}]\n"
     ]
    },
    {
     "ename": "SyntaxError",
     "evalue": "invalid syntax (<unknown>, line 0)",
     "output_type": "error",
     "traceback": [
      "Traceback \u001b[1;36m(most recent call last)\u001b[0m:\n",
      "\u001b[0m  File \u001b[0;32m~\\AppData\\Local\\anaconda3\\Lib\\site-packages\\IPython\\core\\interactiveshell.py:3505\u001b[0m in \u001b[0;35mrun_code\u001b[0m\n    exec(code_obj, self.user_global_ns, self.user_ns)\u001b[0m\n",
      "\u001b[0m  Cell \u001b[0;32mIn[14], line 3\u001b[0m\n    x = ast.literal_eval(f.read())\u001b[0m\n",
      "\u001b[0m  File \u001b[0;32m~\\AppData\\Local\\anaconda3\\Lib\\ast.py:64\u001b[0m in \u001b[0;35mliteral_eval\u001b[0m\n    node_or_string = parse(node_or_string.lstrip(\" \\t\"), mode='eval')\u001b[0m\n",
      "\u001b[1;36m  File \u001b[1;32m~\\AppData\\Local\\anaconda3\\Lib\\ast.py:50\u001b[1;36m in \u001b[1;35mparse\u001b[1;36m\n\u001b[1;33m    return compile(source, filename, mode, flags,\u001b[1;36m\n",
      "\u001b[1;36m  File \u001b[1;32m<unknown>\u001b[1;36m\u001b[0m\n\u001b[1;33m    \u001b[0m\n\u001b[1;37m    ^\u001b[0m\n\u001b[1;31mSyntaxError\u001b[0m\u001b[1;31m:\u001b[0m invalid syntax\n"
     ]
    }
   ],
   "source": [
    "with open('results.txt', 'r') as f:\n",
    "    print(f.read())\n",
    "    x = ast.literal_eval(f.read())\n",
    "    print(x)"
   ]
  },
  {
   "cell_type": "code",
   "execution_count": 15,
   "id": "11172d16",
   "metadata": {
    "scrolled": true
   },
   "outputs": [
    {
     "name": "stdout",
     "output_type": "stream",
     "text": [
      "[{'type': 'corsiBlockSpan', 'score': 7, 'sequence': '4,2,1,6,6,9,2,1'}, [{'item': 0, 'correctAngle': 301, 'userAngle': 311.18592516570965, 'error': 10.185925165709648}, {'item': 1, 'correctAngle': 123, 'userAngle': 151.61303337592315, 'error': 28.613033375923152}, {'item': 2, 'correctAngle': 237, 'userAngle': 225.18785434166682, 'error': 11.81214565833318}, {'item': 3, 'correctAngle': 83, 'userAngle': 91.17875916991123, 'error': 8.178759169911231}, {'item': 4, 'correctAngle': 156, 'userAngle': 158.65952811176072, 'error': 2.6595281117607215}, {'item': 5, 'correctAngle': 319, 'userAngle': 301.13897243697886, 'error': 17.86102756302114}, {'item': 6, 'correctAngle': 235, 'userAngle': 273.01278750418334, 'error': 38.012787504183336}, {'item': 7, 'correctAngle': 333, 'userAngle': 339.16662984298546, 'error': 6.166629842985458}, {'item': 8, 'correctAngle': 260, 'userAngle': 263.48757697071215, 'error': 3.487576970712155}, {'item': 9, 'correctAngle': 280, 'userAngle': 273.74764497476605, 'error': 6.252355025233953}, {'item': 10, 'correctAngle': 48, 'userAngle': 273.74764497476605, 'error': 225.74764497476605}, {'item': 11, 'correctAngle': 26, 'userAngle': 25.243999002535418, 'error': 0.7560009974645823}, {'item': 12, 'correctAngle': 150, 'userAngle': 166.49364458741763, 'error': 16.493644587417634}], [{'trial': 1, 'answer': 'same', 'correct': True, 'angle': 50}, {'trial': 2, 'answer': 'different', 'correct': True, 'angle': 150}, {'trial': 3, 'answer': 'same', 'correct': True, 'angle': 50}, {'trial': 4, 'answer': 'different', 'correct': True, 'angle': 50}, {'trial': 5, 'answer': 'same', 'correct': True, 'angle': 50}, {'trial': 6, 'answer': 'same', 'correct': True, 'angle': 50}, {'trial': 7, 'answer': 'different', 'correct': True, 'angle': 50}, {'trial': 8, 'answer': 'different', 'correct': True, 'angle': 50}, {'trial': 9, 'answer': 'same', 'correct': True, 'angle': 50}, {'trial': 10, 'answer': 'same', 'correct': True, 'angle': 150}, {'trial': 11, 'answer': 'different', 'correct': True, 'angle': 150}, {'trial': 12, 'answer': 'different', 'correct': True, 'angle': 50}, {'trial': 13, 'answer': 'same', 'correct': True, 'angle': 150}, {'trial': 14, 'answer': 'different', 'correct': True, 'angle': 150}, {'trial': 15, 'answer': 'same', 'correct': True, 'angle': 50}, {'trial': 16, 'answer': 'same', 'correct': True, 'angle': 50}, {'trial': 17, 'answer': 'different', 'correct': True, 'angle': 50}, {'trial': 18, 'answer': 'different', 'correct': True, 'angle': 50}, {'trial': 19, 'answer': 'different', 'correct': True, 'angle': 150}, {'trial': 20, 'answer': 'different', 'correct': True, 'angle': 150}], {'gender': 'male', 'age': '21', 'education': 'Undergraduate'}]\n"
     ]
    }
   ],
   "source": [
    "import json\n",
    "\n",
    "# Read the file\n",
    "with open('results.txt', 'r') as f:\n",
    "    content = f.read()\n",
    "\n",
    "# Parse the JSON content\n",
    "try:\n",
    "    parsed_data = json.loads(content)\n",
    "except json.JSONDecodeError:\n",
    "    print(\"Error: Could not decode the JSON data.\")\n",
    "\n",
    "# Now, parsed_data is a Python list\n",
    "print(parsed_data)"
   ]
  },
  {
   "cell_type": "code",
   "execution_count": 23,
   "id": "ef3fecda",
   "metadata": {
    "scrolled": true
   },
   "outputs": [
    {
     "data": {
      "text/plain": [
       "[{'item': 0,\n",
       "  'correctAngle': 301,\n",
       "  'userAngle': 311.18592516570965,\n",
       "  'error': 10.185925165709648},\n",
       " {'item': 1,\n",
       "  'correctAngle': 123,\n",
       "  'userAngle': 151.61303337592315,\n",
       "  'error': 28.613033375923152},\n",
       " {'item': 2,\n",
       "  'correctAngle': 237,\n",
       "  'userAngle': 225.18785434166682,\n",
       "  'error': 11.81214565833318},\n",
       " {'item': 3,\n",
       "  'correctAngle': 83,\n",
       "  'userAngle': 91.17875916991123,\n",
       "  'error': 8.178759169911231},\n",
       " {'item': 4,\n",
       "  'correctAngle': 156,\n",
       "  'userAngle': 158.65952811176072,\n",
       "  'error': 2.6595281117607215},\n",
       " {'item': 5,\n",
       "  'correctAngle': 319,\n",
       "  'userAngle': 301.13897243697886,\n",
       "  'error': 17.86102756302114},\n",
       " {'item': 6,\n",
       "  'correctAngle': 235,\n",
       "  'userAngle': 273.01278750418334,\n",
       "  'error': 38.012787504183336},\n",
       " {'item': 7,\n",
       "  'correctAngle': 333,\n",
       "  'userAngle': 339.16662984298546,\n",
       "  'error': 6.166629842985458},\n",
       " {'item': 8,\n",
       "  'correctAngle': 260,\n",
       "  'userAngle': 263.48757697071215,\n",
       "  'error': 3.487576970712155},\n",
       " {'item': 9,\n",
       "  'correctAngle': 280,\n",
       "  'userAngle': 273.74764497476605,\n",
       "  'error': 6.252355025233953},\n",
       " {'item': 10,\n",
       "  'correctAngle': 48,\n",
       "  'userAngle': 273.74764497476605,\n",
       "  'error': 225.74764497476605},\n",
       " {'item': 11,\n",
       "  'correctAngle': 26,\n",
       "  'userAngle': 25.243999002535418,\n",
       "  'error': 0.7560009974645823},\n",
       " {'item': 12,\n",
       "  'correctAngle': 150,\n",
       "  'userAngle': 166.49364458741763,\n",
       "  'error': 16.493644587417634}]"
      ]
     },
     "execution_count": 23,
     "metadata": {},
     "output_type": "execute_result"
    }
   ],
   "source": [
    "parsed_data[1]"
   ]
  },
  {
   "cell_type": "code",
   "execution_count": 24,
   "id": "d436c60d",
   "metadata": {},
   "outputs": [],
   "source": [
    "errors = list()\n",
    "for dics in parsed_data[1]:\n",
    "    errors.append(dics['error'])"
   ]
  },
  {
   "cell_type": "code",
   "execution_count": 39,
   "id": "75f8acb6",
   "metadata": {},
   "outputs": [
    {
     "data": {
      "text/plain": [
       "12.539951164388015"
      ]
     },
     "execution_count": 39,
     "metadata": {},
     "output_type": "execute_result"
    }
   ],
   "source": [
    "np.average(errors)"
   ]
  },
  {
   "cell_type": "code",
   "execution_count": 40,
   "id": "bd671fca",
   "metadata": {},
   "outputs": [
    {
     "data": {
      "text/plain": [
       "10.703694273546594"
      ]
     },
     "execution_count": 40,
     "metadata": {},
     "output_type": "execute_result"
    }
   ],
   "source": [
    "np.std(errors)"
   ]
  },
  {
   "cell_type": "code",
   "execution_count": 36,
   "id": "6b884fc5",
   "metadata": {},
   "outputs": [
    {
     "data": {
      "text/plain": [
       "{'item': 10,\n",
       " 'correctAngle': 48,\n",
       " 'userAngle': 273.74764497476605,\n",
       " 'error': 225.74764497476605}"
      ]
     },
     "execution_count": 36,
     "metadata": {},
     "output_type": "execute_result"
    }
   ],
   "source": [
    "parsed_data[1][-3]"
   ]
  },
  {
   "cell_type": "code",
   "execution_count": 45,
   "id": "4621e1c1",
   "metadata": {},
   "outputs": [],
   "source": [
    "rotation = [1 if _['correct'] == True else 0 for _ in parsed_data[2]]\n"
   ]
  },
  {
   "cell_type": "code",
   "execution_count": 29,
   "id": "0b06b463",
   "metadata": {},
   "outputs": [
    {
     "data": {
      "text/plain": [
       "{'gender': 'male', 'age': '21', 'education': 'Undergraduate'}"
      ]
     },
     "execution_count": 29,
     "metadata": {},
     "output_type": "execute_result"
    }
   ],
   "source": [
    "parsed_data[3]"
   ]
  },
  {
   "cell_type": "code",
   "execution_count": 37,
   "id": "dd550ed9",
   "metadata": {},
   "outputs": [
    {
     "data": {
      "text/plain": [
       "225.74764497476605"
      ]
     },
     "execution_count": 37,
     "metadata": {},
     "output_type": "execute_result"
    }
   ],
   "source": [
    "errors.pop(-3)"
   ]
  },
  {
   "cell_type": "code",
   "execution_count": 48,
   "id": "a63d98ce",
   "metadata": {},
   "outputs": [],
   "source": [
    "names  = ['gender','education','corsi score',\"prospect avg\",\"prospect std\",\"mental avg\"]"
   ]
  },
  {
   "cell_type": "code",
   "execution_count": 46,
   "id": "f7a06fc3",
   "metadata": {},
   "outputs": [],
   "source": [
    "people = [(1 if parsed_data[3]['gender']=='male' else 0), (1 if parsed_data[3]['education']=='Undergraduate' else 0),parsed_data[0]['score'],np.average(errors),np.std(errors),np.average(rotation)]"
   ]
  },
  {
   "cell_type": "code",
   "execution_count": 47,
   "id": "30c60ab9",
   "metadata": {},
   "outputs": [
    {
     "data": {
      "text/plain": [
       "[1, 1, 7, 12.539951164388015, 10.703694273546594, 1.0]"
      ]
     },
     "execution_count": 47,
     "metadata": {},
     "output_type": "execute_result"
    }
   ],
   "source": [
    "people"
   ]
  }
 ],
 "metadata": {
  "kernelspec": {
   "display_name": "Python 3 (ipykernel)",
   "language": "python",
   "name": "python3"
  },
  "language_info": {
   "codemirror_mode": {
    "name": "ipython",
    "version": 3
   },
   "file_extension": ".py",
   "mimetype": "text/x-python",
   "name": "python",
   "nbconvert_exporter": "python",
   "pygments_lexer": "ipython3",
   "version": "3.11.4"
  }
 },
 "nbformat": 4,
 "nbformat_minor": 5
}
