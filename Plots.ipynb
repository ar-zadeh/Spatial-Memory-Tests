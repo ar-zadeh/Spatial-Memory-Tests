{
 "cells": [
  {
   "cell_type": "code",
   "execution_count": 2,
   "id": "888067a6",
   "metadata": {},
   "outputs": [
    {
     "name": "stderr",
     "output_type": "stream",
     "text": [
      "Warning message:\n",
      "\"dependencies 'BsMD', 'MASS', 'lattice', 'numbers' are not available\"also installing the dependencies 'estimability', 'vcd', 'rsm', 'lhs', 'DiceDesign', 'AlgDesign', 'DoE.base', 'FrF2.catlg128', 'DoE.wrapper'\n",
      "\n"
     ]
    },
    {
     "name": "stdout",
     "output_type": "stream",
     "text": [
      "\n",
      "  There are binary versions available but the source versions are later:\n",
      "              binary source needs_compilation\n",
      "estimability     1.3  1.4.1             FALSE\n",
      "vcd            1.4-8 1.4-11             FALSE\n",
      "rsm           2.10.2 2.10.3             FALSE\n",
      "lhs            1.1.1  1.1.6              TRUE\n",
      "AlgDesign      1.2.0  1.2.1              TRUE\n",
      "DoE.base       1.1-6  1.2-2             FALSE\n",
      "FrF2.catlg128  1.2-1  1.2-2             FALSE\n",
      "DoE.wrapper     0.11   0.12             FALSE\n",
      "FrF2           2.2-2  2.3-2             FALSE\n",
      "\n",
      "  Binaries will be installed\n",
      "package 'lhs' successfully unpacked and MD5 sums checked\n",
      "package 'DiceDesign' successfully unpacked and MD5 sums checked\n",
      "package 'AlgDesign' successfully unpacked and MD5 sums checked\n",
      "\n",
      "The downloaded binary packages are in\n",
      "\tC:\\Users\\ambkh\\AppData\\Local\\Temp\\Rtmp2Tgreh\\downloaded_packages\n"
     ]
    },
    {
     "name": "stderr",
     "output_type": "stream",
     "text": [
      "installing the source packages 'estimability', 'vcd', 'rsm', 'DoE.base', 'FrF2.catlg128', 'DoE.wrapper', 'FrF2'\n",
      "\n",
      "Warning message in install.packages(\"FrF2\", dependencies = TRUE):\n",
      "\"installation of package 'vcd' had non-zero exit status\"Warning message in install.packages(\"FrF2\", dependencies = TRUE):\n",
      "\"installation of package 'DoE.base' had non-zero exit status\"Warning message in install.packages(\"FrF2\", dependencies = TRUE):\n",
      "\"installation of package 'FrF2' had non-zero exit status\"Warning message in install.packages(\"FrF2\", dependencies = TRUE):\n",
      "\"installation of package 'FrF2.catlg128' had non-zero exit status\"Warning message in install.packages(\"FrF2\", dependencies = TRUE):\n",
      "\"installation of package 'DoE.wrapper' had non-zero exit status\""
     ]
    }
   ],
   "source": [
    "install.packages(\"FrF2\" ,dependencies=TRUE)"
   ]
  },
  {
   "cell_type": "code",
   "execution_count": 3,
   "id": "76ce805f",
   "metadata": {},
   "outputs": [
    {
     "name": "stdout",
     "output_type": "stream",
     "text": [
      "\n",
      "  There is a binary version available but the source version is later:\n",
      "             binary source needs_compilation\n",
      "estimability    1.3  1.4.1             FALSE\n",
      "\n"
     ]
    },
    {
     "name": "stderr",
     "output_type": "stream",
     "text": [
      "installing the source package 'estimability'\n",
      "\n"
     ]
    }
   ],
   "source": [
    "install.packages(\"estimability\" ,dependencies=TRUE)"
   ]
  },
  {
   "cell_type": "code",
   "execution_count": 8,
   "id": "c2166d0f",
   "metadata": {},
   "outputs": [
    {
     "name": "stderr",
     "output_type": "stream",
     "text": [
      "Warning message:\n",
      "\"package 'Mass' is not available (for R version 3.6.1)\""
     ]
    }
   ],
   "source": [
    "install.packages(\"Mass\")"
   ]
  },
  {
   "cell_type": "code",
   "execution_count": null,
   "id": "38d492a9",
   "metadata": {},
   "outputs": [],
   "source": [
    "data <- read.csv(\"your_file.csv\")"
   ]
  }
 ],
 "metadata": {
  "kernelspec": {
   "display_name": "R",
   "language": "R",
   "name": "ir"
  },
  "language_info": {
   "codemirror_mode": "r",
   "file_extension": ".r",
   "mimetype": "text/x-r-source",
   "name": "R",
   "pygments_lexer": "r",
   "version": "3.6.1"
  }
 },
 "nbformat": 4,
 "nbformat_minor": 5
}
